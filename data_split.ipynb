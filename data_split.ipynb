{
 "cells": [
  {
   "cell_type": "code",
   "execution_count": null,
   "id": "62069f26-f49a-420a-ad28-4832da0cdb38",
   "metadata": {},
   "outputs": [
    {
     "name": "stdout",
     "output_type": "stream",
     "text": [
      "✅ Dataset split complete.\n"
     ]
    }
   ],
   "source": [
    "from pathlib import Path\n",
    "import shutil, random\n",
    "\n",
    "source_dir = Path('dataset')\n",
    "classes = ['with_mask', 'without_mask']\n",
    "train_dir = Path('data/train')\n",
    "val_dir = Path('data/val')\n",
    "split_ratio = 0.8\n",
    "\n",
    "for cls in classes:\n",
    "    train_cls_dir = train_dir / cls\n",
    "    val_cls_dir = val_dir / cls\n",
    "    src_cls_dir = source_dir / cls\n",
    "    train_cls_dir.mkdir(parents=True, exist_ok=True)\n",
    "    val_cls_dir.mkdir(parents=True, exist_ok=True)\n",
    "    \n",
    "    images = list(src_cls_dir.iterdir())\n",
    "    random.shuffle(images)\n",
    "    split = int(len(images) * split_ratio)\n",
    "\n",
    "    for img_path in images[:split]:\n",
    "        shutil.copy(img_path, train_cls_dir / img_path.name)\n",
    "    for img_path in images[split:]:\n",
    "        shutil.copy(img_path, val_cls_dir / img_path.name)\n",
    "\n",
    "print(\"✅ Dataset split complete.\")"
   ]
  },
  {
   "cell_type": "code",
   "execution_count": null,
   "id": "6a261081-0cde-4baa-814b-fed37e23a3f5",
   "metadata": {},
   "outputs": [],
   "source": []
  }
 ],
 "metadata": {
  "kernelspec": {
   "display_name": "Python 3",
   "language": "python",
   "name": "python3"
  },
  "language_info": {
   "codemirror_mode": {
    "name": "ipython",
    "version": 3
   },
   "file_extension": ".py",
   "mimetype": "text/x-python",
   "name": "python",
   "nbconvert_exporter": "python",
   "pygments_lexer": "ipython3",
   "version": "3.10.0"
  }
 },
 "nbformat": 4,
 "nbformat_minor": 5
}
