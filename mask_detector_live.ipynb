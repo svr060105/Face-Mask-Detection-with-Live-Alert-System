{
 "cells": [
  {
   "cell_type": "code",
   "execution_count": null,
   "id": "54b56e74-9f72-40c8-85d4-3d5caaacf2db",
   "metadata": {
    "scrolled": true
   },
   "outputs": [],
   "source": [
    "import cv2\n",
    "import numpy as np\n",
    "from tensorflow.keras.models import load_model # type: ignore\n",
    "\n",
    "# Load trained model and Haar cascade\n",
    "model = load_model('mask_detector_model.h5')\n",
    "face_cascade = cv2.CascadeClassifier(cv2.data.haarcascades + 'haarcascade_frontalface_default.xml')\n",
    "\n",
    "# Webcam\n",
    "cap = cv2.VideoCapture(0)\n",
    "\n",
    "def preprocess(face):\n",
    "    face = cv2.resize(face, (100, 100))\n",
    "    face = cv2.cvtColor(face, cv2.COLOR_BGR2RGB)\n",
    "    face = face / 255.0\n",
    "    return np.expand_dims(face, axis=0)\n",
    "\n",
    "while True:\n",
    "    ret, frame = cap.read()\n",
    "    if not ret:\n",
    "        break\n",
    "\n",
    "    gray = cv2.cvtColor(frame, cv2.COLOR_BGR2GRAY)\n",
    "    faces = face_cascade.detectMultiScale(gray, scaleFactor=1.1, minNeighbors=4)\n",
    "\n",
    "    for (x, y, w, h) in faces:\n",
    "        # Add padding\n",
    "        padding = 20\n",
    "        x1 = max(0, x - padding)\n",
    "        y1 = max(0, y - padding)\n",
    "        x2 = min(frame.shape[1], x + w + padding)\n",
    "        y2 = min(frame.shape[0], y + h + padding)\n",
    "\n",
    "        face = frame[y1:y2, x1:x2]\n",
    "        if face.size == 0 or face.shape[0] < 10 or face.shape[1] < 10:\n",
    "            continue\n",
    "\n",
    "        input_face = preprocess(face)\n",
    "        pred = float(model.predict(input_face, verbose=0)[0][0])\n",
    "\n",
    "        label = \"With Mask\" if pred < 0.5 else \"No Mask\"\n",
    "        color = (0, 255, 0) if label == \"With Mask\" else (0, 0, 255)\n",
    "\n",
    "        if label == \"No Mask\":\n",
    "            print(\"🔴 ALERT: No Mask Detected!\")\n",
    "\n",
    "        cv2.rectangle(frame, (x1, y1), (x2, y2), color, 2)\n",
    "        cv2.putText(frame, label, (x1, y1 - 10), cv2.FONT_HERSHEY_SIMPLEX, 0.8, color, 2)\n",
    "\n",
    "    cv2.imshow('Face Mask Detection', frame)\n",
    "    if cv2.waitKey(1) & 0xFF == ord('q'):\n",
    "        break\n",
    "\n",
    "cap.release()\n",
    "cv2.destroyAllWindows()"
   ]
  }
 ],
 "metadata": {
  "kernelspec": {
   "display_name": "Python 3",
   "language": "python",
   "name": "python3"
  },
  "language_info": {
   "codemirror_mode": {
    "name": "ipython",
    "version": 3
   },
   "file_extension": ".py",
   "mimetype": "text/x-python",
   "name": "python",
   "nbconvert_exporter": "python",
   "pygments_lexer": "ipython3",
   "version": "3.10.0"
  }
 },
 "nbformat": 4,
 "nbformat_minor": 5
}
