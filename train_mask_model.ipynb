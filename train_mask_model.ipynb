{
 "cells": [
  {
   "cell_type": "code",
   "execution_count": 2,
   "id": "4a4902de-4e96-4b9b-8fab-36f7f99aef70",
   "metadata": {},
   "outputs": [
    {
     "name": "stdout",
     "output_type": "stream",
     "text": [
      "Found 7244 images belonging to 2 classes.\n",
      "Found 2713 images belonging to 2 classes.\n",
      "Found 2713 images belonging to 2 classes.\n",
      "Class mapping: {'with_mask': 0, 'without_mask': 1}\n",
      "Class mapping: {'with_mask': 0, 'without_mask': 1}\n",
      "Epoch 1/5\n",
      "Epoch 1/5\n",
      "\u001b[1m114/114\u001b[0m \u001b[32m━━━━━━━━━━━━━━━━━━━━\u001b[0m\u001b[37m\u001b[0m \u001b[1m28s\u001b[0m 242ms/step - accuracy: 0.6797 - loss: 0.5863 - val_accuracy: 0.8728 - val_loss: 0.3383\n",
      "Epoch 2/5\n",
      "\u001b[1m114/114\u001b[0m \u001b[32m━━━━━━━━━━━━━━━━━━━━\u001b[0m\u001b[37m\u001b[0m \u001b[1m28s\u001b[0m 242ms/step - accuracy: 0.6797 - loss: 0.5863 - val_accuracy: 0.8728 - val_loss: 0.3383\n",
      "Epoch 2/5\n",
      "\u001b[1m114/114\u001b[0m \u001b[32m━━━━━━━━━━━━━━━━━━━━\u001b[0m\u001b[37m\u001b[0m \u001b[1m24s\u001b[0m 209ms/step - accuracy: 0.8701 - loss: 0.3281 - val_accuracy: 0.8979 - val_loss: 0.2631\n",
      "Epoch 3/5\n",
      "\u001b[1m114/114\u001b[0m \u001b[32m━━━━━━━━━━━━━━━━━━━━\u001b[0m\u001b[37m\u001b[0m \u001b[1m24s\u001b[0m 209ms/step - accuracy: 0.8701 - loss: 0.3281 - val_accuracy: 0.8979 - val_loss: 0.2631\n",
      "Epoch 3/5\n",
      "\u001b[1m114/114\u001b[0m \u001b[32m━━━━━━━━━━━━━━━━━━━━\u001b[0m\u001b[37m\u001b[0m \u001b[1m15s\u001b[0m 133ms/step - accuracy: 0.8958 - loss: 0.2651 - val_accuracy: 0.8942 - val_loss: 0.2663\n",
      "Epoch 4/5\n",
      "\u001b[1m114/114\u001b[0m \u001b[32m━━━━━━━━━━━━━━━━━━━━\u001b[0m\u001b[37m\u001b[0m \u001b[1m15s\u001b[0m 133ms/step - accuracy: 0.8958 - loss: 0.2651 - val_accuracy: 0.8942 - val_loss: 0.2663\n",
      "Epoch 4/5\n",
      "\u001b[1m114/114\u001b[0m \u001b[32m━━━━━━━━━━━━━━━━━━━━\u001b[0m\u001b[37m\u001b[0m \u001b[1m15s\u001b[0m 134ms/step - accuracy: 0.8990 - loss: 0.2471 - val_accuracy: 0.9134 - val_loss: 0.2230\n",
      "Epoch 5/5\n",
      "\u001b[1m114/114\u001b[0m \u001b[32m━━━━━━━━━━━━━━━━━━━━\u001b[0m\u001b[37m\u001b[0m \u001b[1m15s\u001b[0m 133ms/step - accuracy: 0.9136 - loss: 0.2259 - val_accuracy: 0.9252 - val_loss: 0.2038\n"
     ]
    },
    {
     "name": "stderr",
     "output_type": "stream",
     "text": [
      "WARNING:absl:You are saving your model as an HDF5 file via `model.save()` or `keras.saving.save_model(model)`. This file format is considered legacy. We recommend using instead the native Keras format, e.g. `model.save('my_model.keras')` or `keras.saving.save_model(model, 'my_model.keras')`. \n"
     ]
    },
    {
     "name": "stdout",
     "output_type": "stream",
     "text": [
      "✅ Model training complete and saved as mask_detector_model.h5\n"
     ]
    }
   ],
   "source": [
    "from tensorflow.keras.models import Sequential\n",
    "from tensorflow.keras.layers import Conv2D, MaxPooling2D, Flatten, Dense, Dropout, Input\n",
    "from tensorflow.keras.preprocessing.image import ImageDataGenerator\n",
    "from tensorflow.keras.optimizers import Adam\n",
    "\n",
    "img_size = 100\n",
    "batch_size = 64\n",
    "epochs = 5\n",
    "\n",
    "train_path = \"data/train\"\n",
    "val_path = \"data/val\"\n",
    "\n",
    "data_gen_args = dict(rescale=1./255)\n",
    "train_gen = ImageDataGenerator(**data_gen_args)\n",
    "val_gen = ImageDataGenerator(**data_gen_args)\n",
    "\n",
    "train_data = train_gen.flow_from_directory(\n",
    "    train_path,\n",
    "    target_size=(img_size, img_size),\n",
    "    batch_size=batch_size,\n",
    "    class_mode='binary',\n",
    "    shuffle=True\n",
    ")\n",
    "val_data = val_gen.flow_from_directory(\n",
    "    val_path,\n",
    "    target_size=(img_size, img_size),\n",
    "    batch_size=batch_size,\n",
    "    class_mode='binary',\n",
    "    shuffle=False\n",
    ")\n",
    "\n",
    "print(\"Class mapping:\", train_data.class_indices)\n",
    "\n",
    "model = Sequential([\n",
    "    Input(shape=(img_size, img_size, 3)),\n",
    "    Conv2D(32, (3,3), activation='relu'),\n",
    "    MaxPooling2D(2,2),\n",
    "    Conv2D(64, (3,3), activation='relu'),\n",
    "    MaxPooling2D(2,2),\n",
    "    Flatten(),\n",
    "    Dropout(0.5),\n",
    "    Dense(64, activation='relu'),\n",
    "    Dense(1, activation='sigmoid')\n",
    "])\n",
    "\n",
    "model.compile(optimizer=Adam(learning_rate=1e-4), loss='binary_crossentropy', metrics=['accuracy'])\n",
    "history = model.fit(\n",
    "    train_data,\n",
    "    epochs=epochs,\n",
    "    validation_data=val_data\n",
    ")\n",
    "\n",
    "model.save(\"mask_detector_model.h5\")\n",
    "print(\"✅ Model training complete and saved as mask_detector_model.h5\")"
   ]
  },
  {
   "cell_type": "code",
   "execution_count": null,
   "id": "a14a8723-73a9-40d6-9b3e-2af2a804bc92",
   "metadata": {},
   "outputs": [],
   "source": []
  }
 ],
 "metadata": {
  "kernelspec": {
   "display_name": "Python 3",
   "language": "python",
   "name": "python3"
  },
  "language_info": {
   "codemirror_mode": {
    "name": "ipython",
    "version": 3
   },
   "file_extension": ".py",
   "mimetype": "text/x-python",
   "name": "python",
   "nbconvert_exporter": "python",
   "pygments_lexer": "ipython3",
   "version": "3.10.0rc2"
  }
 },
 "nbformat": 4,
 "nbformat_minor": 5
}
